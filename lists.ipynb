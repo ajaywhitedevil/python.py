{
  "nbformat": 4,
  "nbformat_minor": 0,
  "metadata": {
    "colab": {
      "name": "lists",
      "provenance": [],
      "authorship_tag": "ABX9TyOdf1GD7en7gZpzzy03YTt7",
      "include_colab_link": true
    },
    "kernelspec": {
      "name": "python3",
      "display_name": "Python 3"
    },
    "language_info": {
      "name": "python"
    }
  },
  "cells": [
    {
      "cell_type": "markdown",
      "metadata": {
        "id": "view-in-github",
        "colab_type": "text"
      },
      "source": [
        "<a href=\"https://colab.research.google.com/github/ajaywhitedevil/python.py/blob/main/lists.ipynb\" target=\"_parent\"><img src=\"https://colab.research.google.com/assets/colab-badge.svg\" alt=\"Open In Colab\"/></a>"
      ]
    },
    {
      "cell_type": "code",
      "execution_count": 11,
      "metadata": {
        "colab": {
          "base_uri": "https://localhost:8080/"
        },
        "id": "Q6TNO7EBTpfK",
        "outputId": "1c535f5c-1861-4778-fb0c-59f1d88d2c21"
      },
      "outputs": [
        {
          "output_type": "stream",
          "name": "stdout",
          "text": [
            "['apple', 'mango', 'guava']\n",
            "<class 'list'>\n",
            "['apple', 'mango', 'guava', 'watermelon']\n",
            "['apple', 'mango', 'guava', 'guava', 'watermelon']\n",
            "watermelon\n"
          ]
        }
      ],
      "source": [
        "#inserting elements into the list\n",
        "fruits = [\"apple\",\"mango\",\"guava\"]\n",
        "print(fruits)\n",
        "print(type(fruits))\n",
        "fruits.append(\"watermelon\")\n",
        "print(fruits)\n",
        "fruits.insert(2,\"guava\")\n",
        "print(fruits)\n",
        "print(fruits[-1])"
      ]
    },
    {
      "cell_type": "code",
      "source": [
        "#deleting elements in the list\n",
        "fruits.pop()\n",
        "print(fruits)\n",
        "# fruits.pop(1)\n",
        "#print(fruits)\n",
        "fruits=[\"apple\",\"strawberry\",\"orange\"]\n",
        "del fruits[2]"
      ],
      "metadata": {
        "colab": {
          "base_uri": "https://localhost:8080/"
        },
        "id": "SqlkUmP9XBfu",
        "outputId": "16731efa-350c-420a-c8be-4008fc097e68"
      },
      "execution_count": 16,
      "outputs": [
        {
          "output_type": "stream",
          "name": "stdout",
          "text": [
            "['apple']\n"
          ]
        }
      ]
    },
    {
      "cell_type": "code",
      "source": [
        "fruits=[\"apple\",\"strawberry\",\"orange\"]\n",
        "del fruits[2]\n",
        "print(fruits)"
      ],
      "metadata": {
        "colab": {
          "base_uri": "https://localhost:8080/"
        },
        "id": "pGTL1qUeaoMz",
        "outputId": "a67de1bd-b3b0-4c79-9969-2277373f7650"
      },
      "execution_count": 18,
      "outputs": [
        {
          "output_type": "stream",
          "name": "stdout",
          "text": [
            "['apple', 'strawberry']\n"
          ]
        }
      ]
    },
    {
      "cell_type": "code",
      "source": [
        "fruits=[\"apple\",\"strawberry\",\"orange\",\"pineapple\",\"grapes\"]\n",
        "print(fruits[0:3])\n",
        "print(fruits[2:])"
      ],
      "metadata": {
        "colab": {
          "base_uri": "https://localhost:8080/"
        },
        "id": "9HkdwtJNbQwa",
        "outputId": "1f0aaec2-6706-4c97-bd9c-e37728f31052"
      },
      "execution_count": 21,
      "outputs": [
        {
          "output_type": "stream",
          "name": "stdout",
          "text": [
            "['apple', 'strawberry', 'orange']\n",
            "['orange', 'pineapple', 'grapes']\n"
          ]
        }
      ]
    }
  ]
}