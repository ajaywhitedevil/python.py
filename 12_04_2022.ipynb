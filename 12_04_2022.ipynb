{
  "nbformat": 4,
  "nbformat_minor": 0,
  "metadata": {
    "colab": {
      "name": "12-04-2022",
      "provenance": [],
      "authorship_tag": "ABX9TyPuL7Mc+FPTYZu00lBJYWTt",
      "include_colab_link": true
    },
    "kernelspec": {
      "name": "python3",
      "display_name": "Python 3"
    },
    "language_info": {
      "name": "python"
    }
  },
  "cells": [
    {
      "cell_type": "markdown",
      "metadata": {
        "id": "view-in-github",
        "colab_type": "text"
      },
      "source": [
        "<a href=\"https://colab.research.google.com/github/ajaywhitedevil/python.py/blob/main/12_04_2022.ipynb\" target=\"_parent\"><img src=\"https://colab.research.google.com/assets/colab-badge.svg\" alt=\"Open In Colab\"/></a>"
      ]
    },
    {
      "cell_type": "code",
      "execution_count": 5,
      "metadata": {
        "colab": {
          "base_uri": "https://localhost:8080/"
        },
        "id": "lMapvgb5PcDn",
        "outputId": "5f878a09-b95b-4d2c-d7f6-bffd9e3d1c8b"
      },
      "outputs": [
        {
          "output_type": "stream",
          "name": "stdout",
          "text": [
            "prime numbers between 900 and 1000 are:\n",
            "907\n",
            "911\n",
            "919\n",
            "929\n",
            "937\n",
            "941\n",
            "947\n",
            "953\n",
            "967\n",
            "971\n",
            "977\n",
            "983\n",
            "991\n",
            "997\n"
          ]
        }
      ],
      "source": [
        "# Python program to display all the prime numbers within an interval\n",
        "lower = 900\n",
        "upper = 1000\n",
        "\n",
        "print(\"prime numbers between\", lower, \"and\", upper, \"are:\")\n",
        "for num in range(lower, upper + 1 ):\n",
        "  if num > 1:\n",
        "    for i in range(2, num):\n",
        "        if (num % i) == 0:\n",
        "           break\n",
        "    else:\n",
        "        print(num)"
      ]
    },
    {
      "cell_type": "code",
      "source": [
        "# Multiplication table (from 1 to 20) in Python\n",
        "num = 15\n",
        "for i in range(1, 21):\n",
        "  print(num,\"x\", i, \"=\", num*i)"
      ],
      "metadata": {
        "colab": {
          "base_uri": "https://localhost:8080/"
        },
        "id": "WFgLryNtSqvY",
        "outputId": "8de96f85-70bb-4b12-eaa2-72363bb525e7"
      },
      "execution_count": 28,
      "outputs": [
        {
          "output_type": "stream",
          "name": "stdout",
          "text": [
            "15 x 1 = 15\n",
            "15 x 2 = 30\n",
            "15 x 3 = 45\n",
            "15 x 4 = 60\n",
            "15 x 5 = 75\n",
            "15 x 6 = 90\n",
            "15 x 7 = 105\n",
            "15 x 8 = 120\n",
            "15 x 9 = 135\n",
            "15 x 10 = 150\n",
            "15 x 11 = 165\n",
            "15 x 12 = 180\n",
            "15 x 13 = 195\n",
            "15 x 14 = 210\n",
            "15 x 15 = 225\n",
            "15 x 16 = 240\n",
            "15 x 17 = 255\n",
            "15 x 18 = 270\n",
            "15 x 19 = 285\n",
            "15 x 20 = 300\n"
          ]
        }
      ]
    },
    {
      "cell_type": "code",
      "source": [
        "# Sum of natural numbers up to num\n",
        "\n",
        "num = 14\n",
        "\n",
        "if num < 0:\n",
        "   print(\"Enter a positive number\")\n",
        "else:\n",
        "   sum = 0\n",
        "   while(num > 0):\n",
        "       sum += num\n",
        "       num -= 1\n",
        "   print(\"The sum is\", sum)"
      ],
      "metadata": {
        "colab": {
          "base_uri": "https://localhost:8080/"
        },
        "id": "BIhemOmwW5sY",
        "outputId": "77367068-4414-41ea-f255-4117d84412e7"
      },
      "execution_count": 14,
      "outputs": [
        {
          "output_type": "stream",
          "name": "stdout",
          "text": [
            "The sum is 105\n"
          ]
        }
      ]
    },
    {
      "cell_type": "code",
      "source": [
        "#Python Program to Slice Lists\n",
        "my_list = [1, 3, 5, 7, 11, 13,17]\n",
        "print(my_list[:])"
      ],
      "metadata": {
        "colab": {
          "base_uri": "https://localhost:8080/"
        },
        "id": "LXk3ARYQXEo_",
        "outputId": "c441461e-2949-4414-de38-4e586834b91d"
      },
      "execution_count": 17,
      "outputs": [
        {
          "output_type": "stream",
          "name": "stdout",
          "text": [
            "[1, 3, 5, 7, 11, 13, 17]\n"
          ]
        }
      ]
    },
    {
      "cell_type": "code",
      "source": [
        "#Python Program to Convert String to Datetime\n",
        "\n",
        "from dateutil import parser\n",
        "\n",
        "date_time = parser.parse(\" April 12 2022 04:22PM\")\n",
        "\n",
        "print(date_time)\n",
        "print(type(date_time))\n"
      ],
      "metadata": {
        "colab": {
          "base_uri": "https://localhost:8080/"
        },
        "id": "f5VYAnjZX6IP",
        "outputId": "6dfbfb4a-311d-47b7-8aae-80e357cd2b13"
      },
      "execution_count": 24,
      "outputs": [
        {
          "output_type": "stream",
          "name": "stdout",
          "text": [
            "2022-04-12 16:22:00\n",
            "<class 'datetime.datetime'>\n"
          ]
        }
      ]
    },
    {
      "cell_type": "code",
      "source": [
        "#Python Program to Remove Duplicate Element From a List\n",
        "\n",
        "list_1 = [1, 4, 6, 7, 9]\n",
        "\n",
        "print(list(set(list_1)))"
      ],
      "metadata": {
        "colab": {
          "base_uri": "https://localhost:8080/"
        },
        "id": "izpbvyfZax9J",
        "outputId": "33a5f53c-308f-4e46-90fa-fc17aa5ebba5"
      },
      "execution_count": 26,
      "outputs": [
        {
          "output_type": "stream",
          "name": "stdout",
          "text": [
            "[1, 4, 6, 7, 9]\n"
          ]
        }
      ]
    }
  ]
}